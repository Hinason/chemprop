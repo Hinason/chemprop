import pandas as pd
import mindspore
from mindspore import context

from data_pre import split_data
from train import run_training, run_testing

context.set_context(mode=context.PYNATIVE_MODE, device_target="CPU")

print('------------------------')


class Args:
    # --- 数据和路径参数 ---
    data_path = 'data/bbbp.csv'
    smiles_column = 'smiles'
    target_column = 'p_np'
    save_dir = 'bbbp_save_model'
    plot_save_dir = 'bbbp_plot'

    # --- 数据集划分参数 ---
    split_type = 'random' # 可选 'random' 或 'scaffold'
    split_sizes = [0.8, 0.1, 0.1]

    # --- 模型超参数 ---
    hidden_size = 300
    depth = 3
    dropout = 0.1

    # --- 训练超参数 ---
    epochs = 10
    batch_size = 32
    learning_rate = 1e-4

args = Args()
print('------------------------')


# ---加载数据 ---
try:
    df = pd.read_csv(args.data_path)
    print(f"Successfully loaded data from '{args.data_path}'. Total molecules: {len(df)}")
    display(df.head())
except FileNotFoundError:
    print(f"Error: Data file not found at '{args.data_path}'")
    print("Please create a CSV file with 'SMILES' and 'ACTIVITY' columns, and update the `data_path` argument.")

if 'df' in locals():
    # ---划分数据集 ---
    train_data, val_data, test_data = split_data(
        df=df, 
        smiles_column=args.smiles_column, 
        target_column=args.target_column, 
        split_type=args.split_type, 
        split_sizes=args.split_sizes
    )
    
print('------------------------')


best_model_path = run_training(args, train_data, val_data)
print('------------------------')


run_testing(args, test_data, best_model_path)
print('------------------------')

{
 "cells": [
  {
   "cell_type": "markdown",
   "metadata": {},
   "source": [
    "# 使用 MindSpore 复现 MRSA 活性预测\n",
    "\n",
    "**目标**: 本 Notebook 调用 `mindspore_chem` 包中的模块，来训练、验证并测试一个用于预测 MRSA 活性的图神经网络模型。"
   ]
  },
  {
   "cell_type": "markdown",
   "metadata": {},
   "source": [
    "## 1. 导入必要的库和模块"
   ]
  },
  {
   "cell_type": "code",
   "execution_count": 1,
   "metadata": {},
   "outputs": [
    {
     "name": "stderr",
     "output_type": "stream",
     "text": [
      "/usr/local/Ascend/ascend-toolkit/7.0.RC1/python/site-packages/tbe/tvm/contrib/ccec.py:766: DeprecationWarning: invalid escape sequence \\L\n",
      "  if not dirpath.find(\"AppData\\Local\\Temp\"):\n",
      "/usr/local/Ascend/ascend-toolkit/latest/python/site-packages/tbe/dsl/classifier/transdata/transdata_classifier.py:222: DeprecationWarning: invalid escape sequence \\B\n",
      "  \"\"\"\n",
      "/usr/local/Ascend/ascend-toolkit/latest/python/site-packages/tbe/dsl/unify_schedule/vector/transdata/common/graph/transdata_graph_info.py:140: DeprecationWarning: invalid escape sequence \\c\n",
      "  \"\"\"\n",
      "/home/ma-user/anaconda3/envs/MindSpore/lib/python3.9/site-packages/numpy/core/getlimits.py:499: UserWarning: The value of the smallest subnormal for <class 'numpy.float64'> type is zero.\n",
      "  setattr(self, word, getattr(machar, word).flat[0])\n",
      "/home/ma-user/anaconda3/envs/MindSpore/lib/python3.9/site-packages/numpy/core/getlimits.py:499: UserWarning: The value of the smallest subnormal for <class 'numpy.float32'> type is zero.\n",
      "  setattr(self, word, getattr(machar, word).flat[0])\n",
      "/usr/local/Ascend/ascend-toolkit/latest/python/site-packages/tbe/dsl/unify_schedule/extract_image_patches_without_cbuf_schedule.py:317: SyntaxWarning: \"is not\" with a literal. Did you mean \"!=\"?\n",
      "  if _ is not 1:\n"
     ]
    },
    {
     "name": "stdout",
     "output_type": "stream",
     "text": [
      "------------------------\n"
     ]
    }
   ],
   "source": [
    "import pandas as pd\n",
    "import mindspore\n",
    "from mindspore import context\n",
    "\n",
    "from data_pre import split_data\n",
    "from train import run_training, run_testing\n",
    "\n",
    "context.set_context(mode=context.PYNATIVE_MODE, device_target=\"CPU\")\n",
    "\n",
    "print('------------------------')"
   ]
  },
  {
   "cell_type": "markdown",
   "metadata": {},
   "source": [
    "## 2. 定义实验参数\n",
    "\n",
    "我们将所有可调参数集中定义在这里，方便修改和管理。"
   ]
  },
  {
   "cell_type": "code",
   "execution_count": 2,
   "metadata": {},
   "outputs": [
    {
     "name": "stdout",
     "output_type": "stream",
     "text": [
      "------------------------\n"
     ]
    }
   ],
   "source": [
    "class Args:\n",
    "    # --- 数据和路径参数 ---\n",
    "    data_path = 'data/mrsa.csv'\n",
    "    smiles_column = 'SMILES'\n",
    "    target_column = 'ACTIVITY'\n",
    "    save_dir = 'mindspore_mrsa_model'\n",
    "    plot_save_dir = 'mrsa_plot'\n",
    "\n",
    "    # --- 数据集划分参数 ---\n",
    "    split_type = 'scaffold' # 可选 'random' 或 'scaffold'\n",
    "    split_sizes = [0.8, 0.1, 0.1]\n",
    "\n",
    "    # --- 模型超参数 ---\n",
    "    hidden_size = 300\n",
    "    depth = 3\n",
    "    dropout = 0.1\n",
    "\n",
    "    # --- 训练超参数 ---\n",
    "    epochs = 10\n",
    "    batch_size = 32\n",
    "    learning_rate = 1e-4\n",
    "\n",
    "args = Args()\n",
    "print('------------------------')"
   ]
  },
  {
   "cell_type": "markdown",
   "metadata": {},
   "source": [
    "## 3. 执行主流程\n",
    "\n",
    "现在，我们按顺序执行数据加载、划分、训练和测试。"
   ]
  },
  {
   "cell_type": "code",
   "execution_count": 3,
   "metadata": {},
   "outputs": [
    {
     "name": "stdout",
     "output_type": "stream",
     "text": [
      "Successfully loaded data from 'data/mrsa.csv'. Total molecules: 39312\n"
     ]
    },
    {
     "data": {
      "text/html": [
       "<div>\n",
       "<style scoped>\n",
       "    .dataframe tbody tr th:only-of-type {\n",
       "        vertical-align: middle;\n",
       "    }\n",
       "\n",
       "    .dataframe tbody tr th {\n",
       "        vertical-align: top;\n",
       "    }\n",
       "\n",
       "    .dataframe thead th {\n",
       "        text-align: right;\n",
       "    }\n",
       "</style>\n",
       "<table border=\"1\" class=\"dataframe\">\n",
       "  <thead>\n",
       "    <tr style=\"text-align: right;\">\n",
       "      <th></th>\n",
       "      <th>SMILES</th>\n",
       "      <th>ACTIVITY</th>\n",
       "    </tr>\n",
       "  </thead>\n",
       "  <tbody>\n",
       "    <tr>\n",
       "      <th>0</th>\n",
       "      <td>Nc1nnc(o1)-c1ccc(o1)[N+](=O)[O-]</td>\n",
       "      <td>1</td>\n",
       "    </tr>\n",
       "    <tr>\n",
       "      <th>1</th>\n",
       "      <td>O[C@H]1COC[C@@H]2O[C@H](CC[C@H]2N(C1)C(=O)Nc1c...</td>\n",
       "      <td>1</td>\n",
       "    </tr>\n",
       "    <tr>\n",
       "      <th>2</th>\n",
       "      <td>CC(C)C[C@@H](N)C(=O)N[C@@H]1[C@H](O)c2ccc(c(c2...</td>\n",
       "      <td>1</td>\n",
       "    </tr>\n",
       "    <tr>\n",
       "      <th>3</th>\n",
       "      <td>[O-][N+](=O)c1ccc(o1)/C=N/N1CC(=O)NC1=O</td>\n",
       "      <td>1</td>\n",
       "    </tr>\n",
       "    <tr>\n",
       "      <th>4</th>\n",
       "      <td>Cn1cnc(c1)CCNC(=O)C[C@@H]1CC[C@@H]2[C@H](COC[C...</td>\n",
       "      <td>1</td>\n",
       "    </tr>\n",
       "  </tbody>\n",
       "</table>\n",
       "</div>"
      ],
      "text/plain": [
       "                                              SMILES  ACTIVITY\n",
       "0                   Nc1nnc(o1)-c1ccc(o1)[N+](=O)[O-]         1\n",
       "1  O[C@H]1COC[C@@H]2O[C@H](CC[C@H]2N(C1)C(=O)Nc1c...         1\n",
       "2  CC(C)C[C@@H](N)C(=O)N[C@@H]1[C@H](O)c2ccc(c(c2...         1\n",
       "3            [O-][N+](=O)c1ccc(o1)/C=N/N1CC(=O)NC1=O         1\n",
       "4  Cn1cnc(c1)CCNC(=O)C[C@@H]1CC[C@@H]2[C@H](COC[C...         1"
      ]
     },
     "metadata": {},
     "output_type": "display_data"
    },
    {
     "name": "stdout",
     "output_type": "stream",
     "text": [
      "Splitting data with method: 'scaffold'\n"
     ]
    },
    {
     "name": "stderr",
     "output_type": "stream",
     "text": [
      "[23:47:33] Unusual charge on atom 0 number of radical electrons set to zero\n",
      "[23:47:40] Explicit valence for atom # 16 Al, 6, is greater than permitted\n"
     ]
    },
    {
     "name": "stdout",
     "output_type": "stream",
     "text": [
      "Data split sizes: Train=31344, Validation=4010, Test=3957\n",
      "------------------------\n"
     ]
    }
   ],
   "source": [
    "# ---加载数据 ---\n",
    "try:\n",
    "    df = pd.read_csv(args.data_path)\n",
    "    print(f\"Successfully loaded data from '{args.data_path}'. Total molecules: {len(df)}\")\n",
    "    display(df.head())\n",
    "except FileNotFoundError:\n",
    "    print(f\"Error: Data file not found at '{args.data_path}'\")\n",
    "    print(\"Please create a CSV file with 'SMILES' and 'ACTIVITY' columns, and update the `data_path` argument.\")\n",
    "\n",
    "if 'df' in locals():\n",
    "    # ---划分数据集 ---\n",
    "    train_data, val_data, test_data = split_data(\n",
    "        df=df, \n",
    "        smiles_column=args.smiles_column, \n",
    "        target_column=args.target_column, \n",
    "        split_type=args.split_type, \n",
    "        split_sizes=args.split_sizes\n",
    "    )\n",
    "    \n",
    "print('------------------------')"
   ]
  },
  {
   "cell_type": "markdown",
   "metadata": {},
   "source": [
    "## 4. 训练并获取最佳模型路径"
   ]
  },
  {
   "cell_type": "code",
   "execution_count": 5,
   "metadata": {},
   "outputs": [
    {
     "name": "stdout",
     "output_type": "stream",
     "text": [
      "\n",
      "Starting training...\n"
     ]
    },
    {
     "name": "stderr",
     "output_type": "stream",
     "text": [
      "Epoch 1/10:  46%|████▌     | 452/980 [01:58<02:15,  3.90it/s, loss=0.0108][22:44:26] Unusual charge on atom 0 number of radical electrons set to zero\n",
      "Epoch 1/10: 100%|██████████| 980/980 [04:14<00:00,  3.85it/s, loss=0.0111]\n"
     ]
    },
    {
     "name": "stdout",
     "output_type": "stream",
     "text": [
      "Epoch 01 | Train Loss: 0.0863 | Val AUC: 0.7873\n",
      "  -> New best model saved with AUC: 0.7873\n"
     ]
    },
    {
     "name": "stderr",
     "output_type": "stream",
     "text": [
      "Epoch 2/10:  76%|███████▌  | 740/980 [02:52<00:52,  4.54it/s, loss=0.1342][22:49:52] Unusual charge on atom 0 number of radical electrons set to zero\n",
      "Epoch 2/10: 100%|██████████| 980/980 [03:44<00:00,  4.36it/s, loss=0.0125]\n"
     ]
    },
    {
     "name": "stdout",
     "output_type": "stream",
     "text": [
      "Epoch 02 | Train Loss: 0.0738 | Val AUC: 0.7621\n"
     ]
    },
    {
     "name": "stderr",
     "output_type": "stream",
     "text": [
      "Epoch 3/10:  70%|███████   | 688/980 [02:32<01:07,  4.31it/s, loss=0.1021][22:53:30] Unusual charge on atom 0 number of radical electrons set to zero\n",
      "Epoch 3/10: 100%|██████████| 980/980 [03:42<00:00,  4.40it/s, loss=0.0067]\n"
     ]
    },
    {
     "name": "stdout",
     "output_type": "stream",
     "text": [
      "Epoch 03 | Train Loss: 0.0707 | Val AUC: 0.8011\n",
      "  -> New best model saved with AUC: 0.8011\n"
     ]
    },
    {
     "name": "stderr",
     "output_type": "stream",
     "text": [
      "Epoch 4/10:  54%|█████▍    | 530/980 [02:07<01:41,  4.42it/s, loss=0.0225][22:57:00] Unusual charge on atom 0 number of radical electrons set to zero\n",
      "Epoch 4/10: 100%|██████████| 980/980 [03:47<00:00,  4.31it/s, loss=0.0090]\n"
     ]
    },
    {
     "name": "stdout",
     "output_type": "stream",
     "text": [
      "Epoch 04 | Train Loss: 0.0692 | Val AUC: 0.8205\n",
      "  -> New best model saved with AUC: 0.8205\n"
     ]
    },
    {
     "name": "stderr",
     "output_type": "stream",
     "text": [
      "Epoch 5/10:  74%|███████▍  | 723/980 [02:51<01:02,  4.13it/s, loss=0.1368][23:01:44] Unusual charge on atom 0 number of radical electrons set to zero\n",
      "Epoch 5/10: 100%|██████████| 980/980 [03:56<00:00,  4.15it/s, loss=0.0075]\n"
     ]
    },
    {
     "name": "stdout",
     "output_type": "stream",
     "text": [
      "Epoch 05 | Train Loss: 0.0676 | Val AUC: 0.8221\n",
      "  -> New best model saved with AUC: 0.8221\n"
     ]
    },
    {
     "name": "stderr",
     "output_type": "stream",
     "text": [
      "Epoch 6/10:  54%|█████▍    | 528/980 [02:09<02:06,  3.57it/s, loss=0.0171][23:05:10] Unusual charge on atom 0 number of radical electrons set to zero\n",
      "Epoch 6/10: 100%|██████████| 980/980 [04:05<00:00,  4.00it/s, loss=0.0200]\n"
     ]
    },
    {
     "name": "stdout",
     "output_type": "stream",
     "text": [
      "Epoch 06 | Train Loss: 0.0669 | Val AUC: 0.8349\n",
      "  -> New best model saved with AUC: 0.8349\n"
     ]
    },
    {
     "name": "stderr",
     "output_type": "stream",
     "text": [
      "Epoch 7/10:  48%|████▊     | 473/980 [02:01<02:07,  3.97it/s, loss=0.0059][23:09:20] Unusual charge on atom 0 number of radical electrons set to zero\n",
      "Epoch 7/10: 100%|██████████| 980/980 [04:13<00:00,  3.87it/s, loss=0.0352]\n"
     ]
    },
    {
     "name": "stdout",
     "output_type": "stream",
     "text": [
      "Epoch 07 | Train Loss: 0.0660 | Val AUC: 0.8416\n",
      "  -> New best model saved with AUC: 0.8416\n"
     ]
    },
    {
     "name": "stderr",
     "output_type": "stream",
     "text": [
      "Epoch 8/10:  85%|████████▌ | 834/980 [03:31<00:37,  3.94it/s, loss=0.0686][23:15:15] Unusual charge on atom 0 number of radical electrons set to zero\n",
      "Epoch 8/10: 100%|██████████| 980/980 [04:07<00:00,  3.96it/s, loss=0.0156]\n"
     ]
    },
    {
     "name": "stdout",
     "output_type": "stream",
     "text": [
      "Epoch 08 | Train Loss: 0.0642 | Val AUC: 0.8512\n",
      "  -> New best model saved with AUC: 0.8512\n"
     ]
    },
    {
     "name": "stderr",
     "output_type": "stream",
     "text": [
      "Epoch 9/10:  71%|███████   | 697/980 [02:45<01:06,  4.27it/s, loss=0.1583][23:18:48] Unusual charge on atom 0 number of radical electrons set to zero\n",
      "Epoch 9/10: 100%|██████████| 980/980 [03:51<00:00,  4.23it/s, loss=0.0090]\n"
     ]
    },
    {
     "name": "stdout",
     "output_type": "stream",
     "text": [
      "Epoch 09 | Train Loss: 0.0634 | Val AUC: 0.8515\n",
      "  -> New best model saved with AUC: 0.8515\n"
     ]
    },
    {
     "name": "stderr",
     "output_type": "stream",
     "text": [
      "Epoch 10/10:  22%|██▏       | 215/980 [00:50<02:52,  4.43it/s, loss=0.0114][23:20:54] Unusual charge on atom 0 number of radical electrons set to zero\n",
      "Epoch 10/10: 100%|██████████| 980/980 [03:47<00:00,  4.31it/s, loss=0.0180]\n"
     ]
    },
    {
     "name": "stdout",
     "output_type": "stream",
     "text": [
      "Epoch 10 | Train Loss: 0.0630 | Val AUC: 0.8511\n",
      "Training finished.\n",
      "------------------------\n"
     ]
    }
   ],
   "source": [
    "best_model_path = run_training(args, train_data, val_data)\n",
    "print('------------------------')"
   ]
  },
  {
   "cell_type": "markdown",
   "metadata": {},
   "source": [
    "## 5. 使用最佳模型进行测试"
   ]
  },
  {
   "cell_type": "code",
   "execution_count": 4,
   "metadata": {},
   "outputs": [
    {
     "name": "stdout",
     "output_type": "stream",
     "text": [
      "\n",
      "Starting final testing...\n",
      "Loaded best model from: mindspore_mrsa_model/best_model.ckpt\n"
     ]
    },
    {
     "name": "stderr",
     "output_type": "stream",
     "text": [
      "Testing: 100%|██████████| 124/124 [00:20<00:00,  6.16it/s]\n"
     ]
    },
    {
     "name": "stdout",
     "output_type": "stream",
     "text": [
      "\n",
      "===== Final Test Results =====\n",
      "  Test Set AUC:                 0.6448\n",
      "  Test Set Accuracy:            0.9952\n",
      "  Test Set Average Precision:   0.0153\n",
      "============================\n",
      "Evaluation summary plot saved to mrsa_plot/testset_performance_evaluation_curves.png\n",
      "------------------------\n"
     ]
    }
   ],
   "source": [
    "best_model_path = 'mrsa_save_model/best_model.ckpt'\n",
    "run_testing(args, test_data, best_model_path)\n",
    "print('------------------------')"
   ]
  }
 ],
 "metadata": {
  "kernelspec": {
   "display_name": "MindSpore",
   "language": "python",
   "name": "mindspore"
  },
  "language_info": {
   "codemirror_mode": {
    "name": "ipython",
    "version": 3
   },
   "file_extension": ".py",
   "mimetype": "text/x-python",
   "name": "python",
   "nbconvert_exporter": "python",
   "pygments_lexer": "ipython3",
   "version": "3.9.10"
  }
 },
 "nbformat": 4,
 "nbformat_minor": 4
}

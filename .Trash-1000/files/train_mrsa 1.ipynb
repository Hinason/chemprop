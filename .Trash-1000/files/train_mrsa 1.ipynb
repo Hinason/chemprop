{
 "cells": [
  {
   "cell_type": "markdown",
   "metadata": {},
   "source": [
    "# 使用 MindSpore 复现 MRSA 活性预测\n",
    "\n",
    "**目标**: 本 Notebook 调用 `mindspore_chem` 包中的模块，来训练、验证并测试一个用于预测 MRSA 活性的图神经网络模型。"
   ]
  },
  {
   "cell_type": "markdown",
   "metadata": {},
   "source": [
    "## 1. 导入必要的库和模块"
   ]
  },
  {
   "cell_type": "code",
   "execution_count": null,
   "metadata": {},
   "outputs": [],
   "source": [
    "import pandas as pd\n",
    "import mindspore\n",
    "from mindspore import context\n",
    "\n",
    "# 从我们创建的包中导入核心功能\n",
    "from mindspore_chem.data import split_data\n",
    "from mindspore_chem.train import run_training, run_testing\n",
    "\n",
    "# 设置MindSpore环境\n",
    "context.set_context(mode=context.PYNATIVE_MODE, device_target=\"CPU\")"
   ]
  },
  {
   "cell_type": "markdown",
   "metadata": {},
   "source": [
    "## 2. 定义实验参数\n",
    "\n",
    "我们将所有可调参数集中定义在这里，方便修改和管理。"
   ]
  },
  {
   "cell_type": "code",
   "execution_count": null,
   "metadata": {},
   "outputs": [],
   "source": [
    "class Args:\n",
    "    # --- 数据和路径参数 ---\n",
    "    # !!! 请务必将 'your_data.csv' 替换为您真实的数据文件名\n",
    "    data_path = 'your_data.csv' # <--- 修改这里\n",
    "    smiles_column = 'SMILES'\n",
    "    target_column = 'ACTIVITY'\n",
    "    save_dir = 'mindspore_mrsa_model'\n",
    "\n",
    "    # --- 数据集划分参数 ---\n",
    "    split_type = 'scaffold' # 可选 'random' 或 'scaffold'\n",
    "    split_sizes = [0.8, 0.1, 0.1]\n",
    "\n",
    "    # --- 模型超参数 ---\n",
    "    hidden_size = 300\n",
    "    depth = 3\n",
    "    dropout = 0.1\n",
    "\n",
    "    # --- 训练超参数 ---\n",
    "    epochs = 30 # 可根据需要增加\n",
    "    batch_size = 32\n",
    "    learning_rate = 1e-4\n",
    "\n",
    "args = Args()"
   ]
  },
  {
   "cell_type": "markdown",
   "metadata": {},
   "source": [
    "## 3. 执行主流程\n",
    "\n",
    "现在，我们按顺序执行数据加载、划分、训练和测试。"
   ]
  },
  {
   "cell_type": "code",
   "execution_count": null,
   "metadata": {},
   "outputs": [],
   "source": [
    "# --- 1. 加载数据 ---\n",
    "try:\n",
    "    df = pd.read_csv(args.data_path)\n",
    "    print(f\"Successfully loaded data from '{args.data_path}'. Total molecules: {len(df)}\")\n",
    "    display(df.head())\n",
    "except FileNotFoundError:\n",
    "    print(f\"Error: Data file not found at '{args.data_path}'\")\n",
    "    print(\"Please create a CSV file with 'SMILES' and 'ACTIVITY' columns, and update the `data_path` argument.\")\n",
    "\n",
    "if 'df' in locals():\n",
    "    # --- 2. 划分数据集 ---\n",
    "    train_data, val_data, test_data = split_data(\n",
    "        df=df, \n",
    "        smiles_column=args.smiles_column, \n",
    "        target_column=args.target_column, \n",
    "        split_type=args.split_type, \n",
    "        split_sizes=args.split_sizes\n",
    "    )\n",
    "\n",
    "    # --- 3. 训练并获取最佳模型路径 ---\n",
    "    best_model_path = run_training(args, train_data, val_data)\n",
    "\n",
    "    # --- 4. 使用最佳模型进行测试 ---\n",
    "    run_testing(args, test_data, best_model_path)"
   ]
  }
 ],
 "metadata": {
  "kernelspec": {
   "display_name": "Python 3",
   "language": "python",
   "name": "python3"
  },
  "language_info": {
   "codemirror_mode": {
    "name": "ipython",
    "version": 3
   },
   "file_extension": ".py",
   "mimetype": "text/x-python",
   "name": "python",
   "nbconvert_exporter": "python",
   "pygments_lexer": "ipython3",
   "version": "3.9.12"
  }
 },
 "nbformat": 4,
 "nbformat_minor": 4
}
